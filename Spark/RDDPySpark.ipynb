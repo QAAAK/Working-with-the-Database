{
 "cells": [
  {
   "cell_type": "code",
   "execution_count": null,
   "id": "e60baaf3-6253-4777-9714-4da84b69ee00",
   "metadata": {},
   "outputs": [],
   "source": [
    "from pyspark import SparkContext\n",
    "sc = SparkContext(\"local\", \"PracticeRDD\")"
   ]
  },
  {
   "cell_type": "code",
   "execution_count": null,
   "id": "307438db-8720-4a5c-9fc8-da50d5ecd0d1",
   "metadata": {
    "tags": []
   },
   "outputs": [],
   "source": [
    "# создание масива данных с помощью parallelize\n",
    "# Он распределит на каждый узел часть наших данных\n",
    "\n",
    "data = [('Dima', 1), ('Kolya',2), ('Andrey',3), ('Misha',4), ('Serega',5)]\n",
    "rdd = sc.parallelize(data)"
   ]
  },
  {
   "cell_type": "code",
   "execution_count": null,
   "id": "e1775035-59a3-4694-b129-41177b796210",
   "metadata": {
    "tags": []
   },
   "outputs": [],
   "source": [
    "# вернуть элементы с помощью take(n)\n",
    "# хорош для небольшого объема данных\n",
    "\n",
    "rdd.take(3)"
   ]
  },
  {
   "cell_type": "code",
   "execution_count": null,
   "id": "35342bd3-f75b-4be9-8d3b-6ce965ac87a0",
   "metadata": {},
   "outputs": [],
   "source": [
    "# вернуть элементы с помощью collect\n",
    "# вернет все строки из нашего набора данных в драйвер\n",
    "\n",
    "rdd.collect()"
   ]
  }
 ],
 "metadata": {
  "kernelspec": {
   "display_name": "Python 3 (ipykernel)",
   "language": "python",
   "name": "python3"
  },
  "language_info": {
   "codemirror_mode": {
    "name": "ipython",
    "version": 3
   },
   "file_extension": ".py",
   "mimetype": "text/x-python",
   "name": "python",
   "nbconvert_exporter": "python",
   "pygments_lexer": "ipython3",
   "version": "3.7.16"
  }
 },
 "nbformat": 4,
 "nbformat_minor": 5
}
