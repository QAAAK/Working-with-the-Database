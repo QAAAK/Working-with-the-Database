{
 "cells": [
  {
   "cell_type": "code",
   "execution_count": 1,
   "id": "e60baaf3-6253-4777-9714-4da84b69ee00",
   "metadata": {
    "execution": {
     "iopub.execute_input": "2025-06-11T08:48:03.900997Z",
     "iopub.status.busy": "2025-06-11T08:48:03.900121Z",
     "iopub.status.idle": "2025-06-11T08:48:09.605033Z",
     "shell.execute_reply": "2025-06-11T08:48:09.603037Z",
     "shell.execute_reply.started": "2025-06-11T08:48:03.900945Z"
    }
   },
   "outputs": [
    {
     "name": "stderr",
     "output_type": "stream",
     "text": [
      "Setting default log level to \"WARN\".\n",
      "To adjust logging level use sc.setLogLevel(newLevel). For SparkR, use setLogLevel(newLevel).\n",
      "25/06/11 11:48:07 WARN NativeCodeLoader: Unable to load native-hadoop library for your platform... using builtin-java classes where applicable\n",
      "25/06/11 11:48:08 WARN Utils: Service 'SparkUI' could not bind on port 4040. Attempting port 4041.\n",
      "25/06/11 11:48:08 WARN Utils: Service 'SparkUI' could not bind on port 4041. Attempting port 4042.\n",
      "/home/santalovdv/.local/lib/python3.7/site-packages/pyspark/context.py:317: FutureWarning: Python 3.7 support is deprecated in Spark 3.4.\n",
      "  warnings.warn(\"Python 3.7 support is deprecated in Spark 3.4.\", FutureWarning)\n"
     ]
    }
   ],
   "source": [
    "from pyspark import SparkContext\n",
    "sc = SparkContext(\"local\", \"PracticeRDD\")"
   ]
  },
  {
   "cell_type": "code",
   "execution_count": 6,
   "id": "307438db-8720-4a5c-9fc8-da50d5ecd0d1",
   "metadata": {
    "execution": {
     "iopub.execute_input": "2025-06-11T08:59:12.948131Z",
     "iopub.status.busy": "2025-06-11T08:59:12.946213Z",
     "iopub.status.idle": "2025-06-11T08:59:13.014060Z",
     "shell.execute_reply": "2025-06-11T08:59:13.005748Z",
     "shell.execute_reply.started": "2025-06-11T08:59:12.948068Z"
    },
    "tags": []
   },
   "outputs": [],
   "source": [
    "# создание масива данных с помощью parallelize\n",
    "# Он распределит на каждый узел часть наших данных\n",
    "\n",
    "data = [('Dima', 1), ('Kolya',2), ('Andrey',3), ('Misha',4), ('Serega',5)]\n",
    "rdd = sc.parallelize(data, 5) # 5 партиций"
   ]
  },
  {
   "cell_type": "code",
   "execution_count": 7,
   "id": "e1775035-59a3-4694-b129-41177b796210",
   "metadata": {
    "execution": {
     "iopub.execute_input": "2025-06-11T08:59:16.283730Z",
     "iopub.status.busy": "2025-06-11T08:59:16.282802Z",
     "iopub.status.idle": "2025-06-11T08:59:16.664243Z",
     "shell.execute_reply": "2025-06-11T08:59:16.662751Z",
     "shell.execute_reply.started": "2025-06-11T08:59:16.283671Z"
    },
    "tags": []
   },
   "outputs": [
    {
     "data": {
      "text/plain": [
       "[('Dima', 1), ('Kolya', 2), ('Andrey', 3)]"
      ]
     },
     "execution_count": 7,
     "metadata": {},
     "output_type": "execute_result"
    }
   ],
   "source": [
    "# вернуть элементы с помощью take(n)\n",
    "# хорош для небольшого объема данных\n",
    "\n",
    "rdd.take(3)"
   ]
  },
  {
   "cell_type": "code",
   "execution_count": 4,
   "id": "35342bd3-f75b-4be9-8d3b-6ce965ac87a0",
   "metadata": {
    "execution": {
     "iopub.execute_input": "2025-06-11T08:48:18.981663Z",
     "iopub.status.busy": "2025-06-11T08:48:18.980352Z",
     "iopub.status.idle": "2025-06-11T08:48:19.199693Z",
     "shell.execute_reply": "2025-06-11T08:48:19.198100Z",
     "shell.execute_reply.started": "2025-06-11T08:48:18.981617Z"
    }
   },
   "outputs": [
    {
     "data": {
      "text/plain": [
       "[('Dima', 1), ('Kolya', 2), ('Andrey', 3), ('Misha', 4), ('Serega', 5)]"
      ]
     },
     "execution_count": 4,
     "metadata": {},
     "output_type": "execute_result"
    }
   ],
   "source": [
    "# вернуть элементы с помощью collect\n",
    "# вернет все строки из нашего набора данных в драйвер\n",
    "\n",
    "rdd.collect()"
   ]
  },
  {
   "cell_type": "code",
   "execution_count": 11,
   "id": "d51fbebe-ef37-475d-acdc-ae0eddfa1bb6",
   "metadata": {
    "execution": {
     "iopub.execute_input": "2025-06-11T09:01:43.049885Z",
     "iopub.status.busy": "2025-06-11T09:01:43.044632Z",
     "iopub.status.idle": "2025-06-11T09:01:43.068945Z",
     "shell.execute_reply": "2025-06-11T09:01:43.063706Z",
     "shell.execute_reply.started": "2025-06-11T09:01:43.049831Z"
    },
    "tags": []
   },
   "outputs": [
    {
     "data": {
      "text/plain": [
       "5"
      ]
     },
     "execution_count": 11,
     "metadata": {},
     "output_type": "execute_result"
    }
   ],
   "source": [
    "# узнать количество партиций\n",
    "\n",
    "rdd.getNumPartitions()"
   ]
  },
  {
   "cell_type": "code",
   "execution_count": 12,
   "id": "eab32972-3fa9-4885-9315-fadcdef8c82c",
   "metadata": {
    "execution": {
     "iopub.execute_input": "2025-06-11T09:01:44.216127Z",
     "iopub.status.busy": "2025-06-11T09:01:44.215705Z",
     "iopub.status.idle": "2025-06-11T09:01:44.270303Z",
     "shell.execute_reply": "2025-06-11T09:01:44.268682Z",
     "shell.execute_reply.started": "2025-06-11T09:01:44.216094Z"
    },
    "tags": []
   },
   "outputs": [
    {
     "data": {
      "text/plain": [
       "MapPartitionsRDD[14] at coalesce at NativeMethodAccessorImpl.java:0"
      ]
     },
     "execution_count": 12,
     "metadata": {},
     "output_type": "execute_result"
    }
   ],
   "source": [
    "# перераспределить количество партиций\n",
    "\n",
    "rdd.repartition(1)"
   ]
  },
  {
   "cell_type": "code",
   "execution_count": null,
   "id": "ec3dc918-b39b-460d-b500-ec04cf28ce12",
   "metadata": {},
   "outputs": [],
   "source": []
  }
 ],
 "metadata": {
  "kernelspec": {
   "display_name": "Python 3 (ipykernel)",
   "language": "python",
   "name": "python3"
  },
  "language_info": {
   "codemirror_mode": {
    "name": "ipython",
    "version": 3
   },
   "file_extension": ".py",
   "mimetype": "text/x-python",
   "name": "python",
   "nbconvert_exporter": "python",
   "pygments_lexer": "ipython3",
   "version": "3.7.16"
  }
 },
 "nbformat": 4,
 "nbformat_minor": 5
}
