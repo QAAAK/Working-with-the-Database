{
 "cells": [
  {
   "cell_type": "code",
   "execution_count": null,
   "id": "f143dc79",
   "metadata": {
    "tags": []
   },
   "outputs": [],
   "source": [
    "import pyspark"
   ]
  },
  {
   "cell_type": "code",
   "execution_count": null,
   "id": "0b189afb",
   "metadata": {
    "tags": []
   },
   "outputs": [],
   "source": [
    "from pyspark.sql import SparkSession"
   ]
  },
  {
   "cell_type": "code",
   "execution_count": null,
   "id": "896f19cb",
   "metadata": {
    "tags": []
   },
   "outputs": [],
   "source": [
    "# создание сессии с помощью SparkSession\n",
    "\n",
    "spark = SparkSession.builder.appName('Practice').getOrCreate()\n",
    "\n",
    "spark.sql(\"select 'hello spark'\").collect()[0][0]"
   ]
  },
  {
   "cell_type": "code",
   "execution_count": null,
   "id": "92f7ac49",
   "metadata": {},
   "outputs": [],
   "source": [
    "# создание ссесии с помощью SparkContext\n",
    "\n",
    "from pyspark import SparkContext, SparkConf\n",
    "\n",
    "conf = SparkConf().setMaster(\"local\").setAppName(\"newSession\")\n",
    "\n",
    "sc = SparkContext(conf=conf)\n",
    "\n",
    "spark.sql(\"select 'hello spark'\").collect()[0][0]"
   ]
  },
  {
   "cell_type": "code",
   "execution_count": null,
   "id": "44685a0c",
   "metadata": {
    "tags": []
   },
   "outputs": [],
   "source": [
    "spark"
   ]
  },
  {
   "cell_type": "code",
   "execution_count": null,
   "id": "30194631",
   "metadata": {
    "tags": []
   },
   "outputs": [],
   "source": [
    "# конвертирую excel в csv\n",
    "\n",
    "import pandas as pd\n",
    "\n",
    "df_excel = pd.read_excel('cvm_srv.xlsx')\n",
    "\n",
    "df_excel.to_csv('cvm_srv.csv', index=False)"
   ]
  },
  {
   "cell_type": "code",
   "execution_count": null,
   "id": "20bfd6b2",
   "metadata": {
    "tags": []
   },
   "outputs": [],
   "source": [
    "# чтение фрейма данных\n",
    "\n",
    "# InferSchema - автоматическое определение типов данных при чтении файла\n",
    "\n",
    "df_spark = spark.read.option('header', 'true').csv('cvm_srv.csv', inferSchema=True)"
   ]
  },
  {
   "cell_type": "code",
   "execution_count": null,
   "id": "07079fb1",
   "metadata": {
    "tags": []
   },
   "outputs": [],
   "source": [
    "# вывод результата\n",
    "\n",
    "df_spark.show(1)"
   ]
  },
  {
   "cell_type": "code",
   "execution_count": null,
   "id": "e0bc19ac",
   "metadata": {
    "tags": []
   },
   "outputs": [],
   "source": [
    "# вывод схемы\n",
    "\n",
    "df_spark.printSchema()"
   ]
  },
  {
   "cell_type": "code",
   "execution_count": null,
   "id": "b27a238a",
   "metadata": {
    "tags": []
   },
   "outputs": [],
   "source": [
    "# получение колонок\n",
    "\n",
    "df_spark.columns"
   ]
  },
  {
   "cell_type": "code",
   "execution_count": null,
   "id": "e019a993",
   "metadata": {
    "tags": []
   },
   "outputs": [],
   "source": [
    "# получение кортежа из строк\n",
    "df_spark.head(1)[0]"
   ]
  },
  {
   "cell_type": "code",
   "execution_count": null,
   "id": "47ce235a",
   "metadata": {
    "tags": []
   },
   "outputs": [],
   "source": [
    "# Выборка по полю\n",
    "\n",
    "df_spark.select('regid', 'dayy').show()\n",
    "\n",
    "# df_spark['regid', 'dayy'].show()\n",
    "\n",
    "#df.regid"
   ]
  },
  {
   "cell_type": "code",
   "execution_count": null,
   "id": "a337b895",
   "metadata": {
    "tags": []
   },
   "outputs": [],
   "source": [
    "# Добавление поля\n",
    "\n",
    "df_spark = df_spark.withColumn(\"new_column\", df_spark['regid']+1)"
   ]
  },
  {
   "cell_type": "code",
   "execution_count": null,
   "id": "37cefde7",
   "metadata": {},
   "outputs": [],
   "source": [
    "# Удаление поля\n",
    "\n",
    "df_spark = df_spark.drop('new_column')"
   ]
  },
  {
   "cell_type": "code",
   "execution_count": null,
   "id": "c780b95f",
   "metadata": {},
   "outputs": [],
   "source": [
    "# Переименование поля\n",
    "\n",
    "df_spark.withColumnRenamed(\"regid\", \"regid_new\")"
   ]
  },
  {
   "cell_type": "code",
   "execution_count": null,
   "id": "8bb4a4f7",
   "metadata": {
    "tags": []
   },
   "outputs": [],
   "source": [
    "# удаление строк с пустыми полями\n",
    "\n",
    "# drop (how = как удалять, subset = из каких полей, thresh = какая то мера удаления)\n",
    "\n",
    "df_spark.na.drop()"
   ]
  },
  {
   "cell_type": "code",
   "execution_count": null,
   "id": "affc8502",
   "metadata": {
    "tags": []
   },
   "outputs": [],
   "source": [
    "# чем заполнить пробелы (Null)\n",
    "\n",
    "df_spark.na.fill('missing_values',['name_cvm'])"
   ]
  },
  {
   "cell_type": "code",
   "execution_count": null,
   "id": "3f0d9436",
   "metadata": {
    "tags": []
   },
   "outputs": [],
   "source": [
    "# заполнить пробелы средним значением\n",
    "\n",
    "# можно выбрать также mod, median\n",
    "\n",
    "from pyspark.ml.feature import Imputer\n",
    "\n",
    "imputer = Imputer(inputCols = [\"regid\",\"dayy\",\"new_column\"],\n",
    "                 outputCols = [\"{}_imputed\".format(c) for c in [\"regid\",\"dayy\",\"new_column\"]]).setStrategy(\"mean\") \n",
    "\n",
    "imputer.fit(df_spark).transform(df_spark).show()"
   ]
  },
  {
   "cell_type": "code",
   "execution_count": null,
   "id": "6bb1ef56",
   "metadata": {
    "tags": []
   },
   "outputs": [],
   "source": [
    "# фильтры\n",
    "\n",
    "df_spark.filter(\"regid=68\").show()\n",
    "\n",
    "df_spark.filter(df_spark['regid']>68).show()"
   ]
  },
  {
   "cell_type": "code",
   "execution_count": null,
   "id": "37247f30",
   "metadata": {
    "tags": []
   },
   "outputs": [],
   "source": [
    "\n",
    "# фильтры с условием И (&) и ИЛИ (|)\n",
    "\n",
    "df_spark.filter((df_spark['regid']>68) & (df_spark['dayy'] == 70)).show()\n",
    "\n",
    "df_spark.filter((df_spark['regid']>68) | (df_spark['dayy'] == 70)).show()"
   ]
  },
  {
   "cell_type": "code",
   "execution_count": null,
   "id": "7f9f51d2",
   "metadata": {
    "tags": []
   },
   "outputs": [],
   "source": [
    "# фильтры с условием НЕ (~)\n",
    "\n",
    "df_spark.filter(~(df_spark['regid']>68)).show()"
   ]
  },
  {
   "cell_type": "code",
   "execution_count": null,
   "id": "38a0eed1",
   "metadata": {},
   "outputs": [],
   "source": [
    "# Фильтр like\n",
    "\n",
    "df_spark.filter(df_spark['global_code'].like('PE5%')).show()"
   ]
  },
  {
   "cell_type": "code",
   "execution_count": null,
   "id": "6b6b3ce8",
   "metadata": {
    "tags": []
   },
   "outputs": [],
   "source": [
    "# создание DataFrame (самостоятельно)\n",
    "\n",
    "data = [('Lucy', 10, 3_000),('Tanya', 35, 200_000), ('Kolya', 15, 0)]\n",
    "\n",
    "df = spark.createDataFrame(data, ['name', 'age', 'money'])\n"
   ]
  },
  {
   "cell_type": "code",
   "execution_count": null,
   "id": "b1f678a1",
   "metadata": {},
   "outputs": [],
   "source": [
    "# Группировка\n",
    "\n",
    "df_spark.printSchema()"
   ]
  },
  {
   "cell_type": "code",
   "execution_count": null,
   "id": "1c95033d",
   "metadata": {},
   "outputs": [],
   "source": [
    "# Группировка\n",
    "# у группировки много есть агрегирующих функций (sum, min, max и тд.) Если не указывать ничего внутри функции, \n",
    "# он будет суммировать все поля числовые, если указать внутри функции, то только их\n",
    "\n",
    "df_spark.groupBy('global_code').sum('service', 'dayy')\n",
    "\n",
    "# df_spark.groupBy('global_code').sum()"
   ]
  },
  {
   "cell_type": "code",
   "execution_count": null,
   "id": "2f336c85",
   "metadata": {},
   "outputs": [],
   "source": [
    "# среднее и подсчет элементов\n",
    "\n",
    "df_spark.groupBy('global_code').mean().show()\n",
    "\n",
    "df_spark.groupBy('global_code').count().show()"
   ]
  },
  {
   "cell_type": "code",
   "execution_count": null,
   "id": "f41122c8",
   "metadata": {},
   "outputs": [],
   "source": [
    "# агрегирующая функция (два варианта применения)\n",
    "from pyspark.sql.functions import sum\n",
    "\n",
    "df_spark.groupBy(\"global_code\").agg({'regid':'sum'}).show()\n",
    "\n",
    "df_spark.groupBy(\"global_code\").agg(sum('regid').alias('cnt_day')).show()"
   ]
  },
  {
   "cell_type": "code",
   "execution_count": null,
   "id": "6aea2ea1",
   "metadata": {},
   "outputs": [],
   "source": [
    "# сортировка \n",
    "\n",
    "\n",
    "# df_spark.sort(df_spark['dayy'].asc()).show()\n",
    "\n",
    "df_spark.orderBy(df_spark['dayy'].asc()).show()\n"
   ]
  },
  {
   "cell_type": "code",
   "execution_count": null,
   "id": "b23a843c",
   "metadata": {},
   "outputs": [],
   "source": []
  }
 ],
 "metadata": {
  "kernelspec": {
   "display_name": "Python 3 (ipykernel)",
   "language": "python",
   "name": "python3"
  },
  "language_info": {
   "codemirror_mode": {
    "name": "ipython",
    "version": 3
   },
   "file_extension": ".py",
   "mimetype": "text/x-python",
   "name": "python",
   "nbconvert_exporter": "python",
   "pygments_lexer": "ipython3",
   "version": "3.7.16"
  }
 },
 "nbformat": 4,
 "nbformat_minor": 5
}
