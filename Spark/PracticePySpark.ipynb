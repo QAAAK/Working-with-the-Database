{
 "cells": [
  {
   "cell_type": "code",
   "execution_count": 1,
   "id": "83368e0d",
   "metadata": {
    "execution": {
     "iopub.execute_input": "2025-05-20T06:51:19.355616Z",
     "iopub.status.busy": "2025-05-20T06:51:19.355133Z",
     "iopub.status.idle": "2025-05-20T06:51:19.736875Z",
     "shell.execute_reply": "2025-05-20T06:51:19.735930Z",
     "shell.execute_reply.started": "2025-05-20T06:51:19.355563Z"
    }
   },
   "outputs": [],
   "source": [
    "import pyspark"
   ]
  },
  {
   "cell_type": "code",
   "execution_count": 2,
   "id": "70c3904a",
   "metadata": {
    "execution": {
     "iopub.execute_input": "2025-05-20T06:52:42.961054Z",
     "iopub.status.busy": "2025-05-20T06:52:42.960579Z",
     "iopub.status.idle": "2025-05-20T06:52:42.964569Z",
     "shell.execute_reply": "2025-05-20T06:52:42.963654Z",
     "shell.execute_reply.started": "2025-05-20T06:52:42.961022Z"
    }
   },
   "outputs": [],
   "source": [
    "from pyspark.sql import SparkSession"
   ]
  },
  {
   "cell_type": "code",
   "execution_count": 4,
   "id": "1e92fe13",
   "metadata": {
    "execution": {
     "iopub.execute_input": "2025-05-20T06:55:01.651710Z",
     "iopub.status.busy": "2025-05-20T06:55:01.651349Z",
     "iopub.status.idle": "2025-05-20T06:55:07.176236Z",
     "shell.execute_reply": "2025-05-20T06:55:07.175360Z",
     "shell.execute_reply.started": "2025-05-20T06:55:01.651682Z"
    }
   },
   "outputs": [],
   "source": [
    "# создание сессии\n",
    "\n",
    "spark = SparkSession.builder.appName('Practice').getOrCreate()"
   ]
  },
  {
   "cell_type": "code",
   "execution_count": 5,
   "id": "39c739b4",
   "metadata": {
    "execution": {
     "iopub.execute_input": "2025-05-20T06:56:10.402536Z",
     "iopub.status.busy": "2025-05-20T06:56:10.402188Z",
     "iopub.status.idle": "2025-05-20T06:56:11.718369Z",
     "shell.execute_reply": "2025-05-20T06:56:11.717750Z",
     "shell.execute_reply.started": "2025-05-20T06:56:10.402505Z"
    }
   },
   "outputs": [
    {
     "data": {
      "text/html": [
       "\n",
       "            <div>\n",
       "                <p><b>SparkSession - in-memory</b></p>\n",
       "                \n",
       "        <div>\n",
       "            <p><b>SparkContext</b></p>\n",
       "\n",
       "            <p><a href=\"http://fob2b-en-001.msk.bd-cloud.mts.ru:4041\">Spark UI</a></p>\n",
       "\n",
       "            <dl>\n",
       "              <dt>Version</dt>\n",
       "                <dd><code>v3.4.2</code></dd>\n",
       "              <dt>Master</dt>\n",
       "                <dd><code>local[*]</code></dd>\n",
       "              <dt>AppName</dt>\n",
       "                <dd><code>Practice</code></dd>\n",
       "            </dl>\n",
       "        </div>\n",
       "        \n",
       "            </div>\n",
       "        "
      ],
      "text/plain": [
       "<pyspark.sql.session.SparkSession at 0x7ff1c046bc40>"
      ]
     },
     "execution_count": 5,
     "metadata": {},
     "output_type": "execute_result"
    }
   ],
   "source": [
    "spark"
   ]
  },
  {
   "cell_type": "code",
   "execution_count": 6,
   "id": "8137e376",
   "metadata": {
    "execution": {
     "iopub.execute_input": "2025-05-20T06:58:57.660827Z",
     "iopub.status.busy": "2025-05-20T06:58:57.660480Z",
     "iopub.status.idle": "2025-05-20T06:58:59.342625Z",
     "shell.execute_reply": "2025-05-20T06:58:59.341648Z",
     "shell.execute_reply.started": "2025-05-20T06:58:57.660801Z"
    }
   },
   "outputs": [],
   "source": [
    "# конвертирую excel в csv\n",
    "\n",
    "import pandas as pd\n",
    "\n",
    "df_excel = pd.read_excel('cvm_srv.xlsx')\n",
    "\n",
    "df_excel.to_csv('cvm_srv.csv', index=False)"
   ]
  },
  {
   "cell_type": "code",
   "execution_count": 16,
   "id": "446162bd",
   "metadata": {
    "execution": {
     "iopub.execute_input": "2025-05-20T07:07:39.585972Z",
     "iopub.status.busy": "2025-05-20T07:07:39.585660Z",
     "iopub.status.idle": "2025-05-20T07:07:39.997300Z",
     "shell.execute_reply": "2025-05-20T07:07:39.996635Z",
     "shell.execute_reply.started": "2025-05-20T07:07:39.585946Z"
    }
   },
   "outputs": [],
   "source": [
    "# чтение фрейма данных\n",
    "\n",
    "# InferSchema - автоматическое определение типов данных при чтении файла\n",
    "\n",
    "df_spark = spark.read.option('header', 'true').csv('cvm_srv.csv', inferSchema=True)"
   ]
  },
  {
   "cell_type": "code",
   "execution_count": 17,
   "id": "be326a5a",
   "metadata": {
    "execution": {
     "iopub.execute_input": "2025-05-20T07:07:42.121895Z",
     "iopub.status.busy": "2025-05-20T07:07:42.121602Z",
     "iopub.status.idle": "2025-05-20T07:07:42.392742Z",
     "shell.execute_reply": "2025-05-20T07:07:42.391703Z",
     "shell.execute_reply.started": "2025-05-20T07:07:42.121871Z"
    }
   },
   "outputs": [
    {
     "name": "stdout",
     "output_type": "stream",
     "text": [
      "+-----------+----------------+--------------------+-----------+----------------+-----+---------+----------+------+--------+----+\n",
      "|campaign_cd|     campaign_nm|            name_cvm|global_code|     global_name|regid|  service|       cvm|contur| product|dayy|\n",
      "+-----------+----------------+--------------------+-----------+----------------+-----+---------+----------+------+--------+----+\n",
      "|CAMP1026252|1757_RTM_B2B_MNR|50 SMS в поездках...|   PE0910.1|100 SMS в Европе|   67|46355.067|CVMB2B-865|   b2c|Mob_core|  30|\n",
      "+-----------+----------------+--------------------+-----------+----------------+-----+---------+----------+------+--------+----+\n",
      "only showing top 1 row\n",
      "\n"
     ]
    }
   ],
   "source": [
    "# вывод результата\n",
    "\n",
    "df_spark.show(1)"
   ]
  },
  {
   "cell_type": "code",
   "execution_count": 18,
   "id": "964c518b",
   "metadata": {
    "execution": {
     "iopub.execute_input": "2025-05-20T07:07:44.354893Z",
     "iopub.status.busy": "2025-05-20T07:07:44.354593Z",
     "iopub.status.idle": "2025-05-20T07:07:44.359090Z",
     "shell.execute_reply": "2025-05-20T07:07:44.358436Z",
     "shell.execute_reply.started": "2025-05-20T07:07:44.354867Z"
    }
   },
   "outputs": [
    {
     "name": "stdout",
     "output_type": "stream",
     "text": [
      "root\n",
      " |-- campaign_cd: string (nullable = true)\n",
      " |-- campaign_nm: string (nullable = true)\n",
      " |-- name_cvm: string (nullable = true)\n",
      " |-- global_code: string (nullable = true)\n",
      " |-- global_name: string (nullable = true)\n",
      " |-- regid: integer (nullable = true)\n",
      " |-- service: double (nullable = true)\n",
      " |-- cvm: string (nullable = true)\n",
      " |-- contur: string (nullable = true)\n",
      " |-- product: string (nullable = true)\n",
      " |-- dayy: integer (nullable = true)\n",
      "\n"
     ]
    }
   ],
   "source": [
    "# вывод схемы\n",
    "\n",
    "df_spark.printSchema()"
   ]
  },
  {
   "cell_type": "code",
   "execution_count": 20,
   "id": "46ee4966",
   "metadata": {
    "execution": {
     "iopub.execute_input": "2025-05-20T07:10:46.475940Z",
     "iopub.status.busy": "2025-05-20T07:10:46.475224Z",
     "iopub.status.idle": "2025-05-20T07:10:46.482945Z",
     "shell.execute_reply": "2025-05-20T07:10:46.482031Z",
     "shell.execute_reply.started": "2025-05-20T07:10:46.475896Z"
    }
   },
   "outputs": [
    {
     "data": {
      "text/plain": [
       "['campaign_cd',\n",
       " 'campaign_nm',\n",
       " 'name_cvm',\n",
       " 'global_code',\n",
       " 'global_name',\n",
       " 'regid',\n",
       " 'service',\n",
       " 'cvm',\n",
       " 'contur',\n",
       " 'product',\n",
       " 'dayy']"
      ]
     },
     "execution_count": 20,
     "metadata": {},
     "output_type": "execute_result"
    }
   ],
   "source": [
    "# получение колонок\n",
    "\n",
    "df_spark.columns"
   ]
  },
  {
   "cell_type": "code",
   "execution_count": 21,
   "id": "fbd737cd",
   "metadata": {
    "execution": {
     "iopub.execute_input": "2025-05-20T07:11:20.838211Z",
     "iopub.status.busy": "2025-05-20T07:11:20.837886Z",
     "iopub.status.idle": "2025-05-20T07:11:21.003275Z",
     "shell.execute_reply": "2025-05-20T07:11:21.002576Z",
     "shell.execute_reply.started": "2025-05-20T07:11:20.838186Z"
    }
   },
   "outputs": [
    {
     "data": {
      "text/plain": [
       "[Row(campaign_cd='CAMP1026252', campaign_nm='1757_RTM_B2B_MNR', name_cvm='50 SMS в поездках по миру', global_code='PE0910.1', global_name='100 SMS в Европе', regid=67, service=46355.067, cvm='CVMB2B-865', contur='b2c', product='Mob_core', dayy=30)]"
      ]
     },
     "execution_count": 21,
     "metadata": {},
     "output_type": "execute_result"
    }
   ],
   "source": [
    "# получение кортежа из строк\n",
    "df_spark.head(1)"
   ]
  },
  {
   "cell_type": "code",
   "execution_count": 24,
   "id": "114e2e28",
   "metadata": {
    "collapsed": true,
    "execution": {
     "iopub.execute_input": "2025-05-20T07:12:48.670553Z",
     "iopub.status.busy": "2025-05-20T07:12:48.670197Z",
     "iopub.status.idle": "2025-05-20T07:12:48.846696Z",
     "shell.execute_reply": "2025-05-20T07:12:48.845674Z",
     "shell.execute_reply.started": "2025-05-20T07:12:48.670522Z"
    },
    "jupyter": {
     "outputs_hidden": true
    }
   },
   "outputs": [
    {
     "name": "stdout",
     "output_type": "stream",
     "text": [
      "+-----+----+\n",
      "|regid|dayy|\n",
      "+-----+----+\n",
      "|   67|  30|\n",
      "|   67|  30|\n",
      "|   68|  30|\n",
      "|   68|  30|\n",
      "|   66|  30|\n",
      "|   71|  30|\n",
      "|   60|  30|\n",
      "|   66|  30|\n",
      "|   68|  30|\n",
      "|   71|  30|\n",
      "|   66|  30|\n",
      "|   67|  30|\n",
      "|   60|  30|\n",
      "|   71|  30|\n",
      "|   60|  30|\n",
      "|   68|  30|\n",
      "|   68|  30|\n",
      "|   67|  30|\n",
      "|   60|  30|\n",
      "|   66|  30|\n",
      "+-----+----+\n",
      "only showing top 20 rows\n",
      "\n"
     ]
    }
   ],
   "source": [
    "# Выборка по полю\n",
    "\n",
    "df_spark.select('regid', 'dayy').show()"
   ]
  },
  {
   "cell_type": "code",
   "execution_count": 29,
   "id": "7c0a04fc",
   "metadata": {
    "execution": {
     "iopub.execute_input": "2025-05-20T07:20:56.598801Z",
     "iopub.status.busy": "2025-05-20T07:20:56.598491Z",
     "iopub.status.idle": "2025-05-20T07:20:56.633467Z",
     "shell.execute_reply": "2025-05-20T07:20:56.632692Z",
     "shell.execute_reply.started": "2025-05-20T07:20:56.598778Z"
    }
   },
   "outputs": [],
   "source": [
    "# Добавление поля\n",
    "\n",
    "df_spark = df_spark.withColumn(\"new_column\", df_spark['regid']+1)"
   ]
  },
  {
   "cell_type": "code",
   "execution_count": 32,
   "id": "fb0a644b",
   "metadata": {
    "execution": {
     "iopub.execute_input": "2025-05-20T07:23:08.575989Z",
     "iopub.status.busy": "2025-05-20T07:23:08.575702Z",
     "iopub.status.idle": "2025-05-20T07:23:08.585466Z",
     "shell.execute_reply": "2025-05-20T07:23:08.584776Z",
     "shell.execute_reply.started": "2025-05-20T07:23:08.575967Z"
    }
   },
   "outputs": [],
   "source": [
    "# Удаление поля\n",
    "\n",
    "df_spark = df_spark.drop('new_column')"
   ]
  },
  {
   "cell_type": "code",
   "execution_count": 33,
   "id": "cefcf88e",
   "metadata": {
    "execution": {
     "iopub.execute_input": "2025-05-20T07:23:10.377758Z",
     "iopub.status.busy": "2025-05-20T07:23:10.377225Z",
     "iopub.status.idle": "2025-05-20T07:23:10.391597Z",
     "shell.execute_reply": "2025-05-20T07:23:10.390778Z",
     "shell.execute_reply.started": "2025-05-20T07:23:10.377732Z"
    }
   },
   "outputs": [
    {
     "data": {
      "text/plain": [
       "DataFrame[campaign_cd: string, campaign_nm: string, name_cvm: string, global_code: string, global_name: string, regid_new: int, service: double, cvm: string, contur: string, product: string, dayy: int]"
      ]
     },
     "execution_count": 33,
     "metadata": {},
     "output_type": "execute_result"
    }
   ],
   "source": [
    "# Переименование поля\n",
    "\n",
    "df_spark.withColumnRenamed(\"regid\", \"regid_new\")"
   ]
  },
  {
   "cell_type": "code",
   "execution_count": null,
   "id": "cd66aa85",
   "metadata": {},
   "outputs": [],
   "source": []
  }
 ],
 "metadata": {
  "kernelspec": {
   "display_name": "Python 3",
   "language": "python",
   "name": "python3"
  },
  "language_info": {
   "codemirror_mode": {
    "name": "ipython",
    "version": 3
   },
   "file_extension": ".py",
   "mimetype": "text/x-python",
   "name": "python",
   "nbconvert_exporter": "python",
   "pygments_lexer": "ipython3",
   "version": "3.9.20"
  }
 },
 "nbformat": 4,
 "nbformat_minor": 5
}
