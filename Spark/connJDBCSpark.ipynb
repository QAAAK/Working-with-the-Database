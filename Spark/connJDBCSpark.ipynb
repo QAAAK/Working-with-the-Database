{
 "cells": [
  {
   "cell_type": "code",
   "execution_count": 1,
   "id": "536dedda",
   "metadata": {
    "execution": {
     "iopub.execute_input": "2025-05-23T08:28:46.137012Z",
     "iopub.status.busy": "2025-05-23T08:28:46.136254Z",
     "iopub.status.idle": "2025-05-23T08:28:46.357205Z",
     "shell.execute_reply": "2025-05-23T08:28:46.355776Z",
     "shell.execute_reply.started": "2025-05-23T08:28:46.136912Z"
    },
    "tags": []
   },
   "outputs": [],
   "source": [
    "from pyspark.sql import SparkSession"
   ]
  },
  {
   "cell_type": "code",
   "execution_count": null,
   "id": "803a25ef",
   "metadata": {
    "tags": []
   },
   "outputs": [],
   "source": [
    "jdbc_path = 'postgresql-42.2.18.jar'\n",
    "\n",
    "spark = SparkSession.builder.appName(\"test\").config(\"spark.jars\", jdbc_path).getOrCreate()"
   ]
  },
  {
   "cell_type": "code",
   "execution_count": null,
   "id": "f1ec5c34",
   "metadata": {
    "tags": []
   },
   "outputs": [],
   "source": [
    "spark"
   ]
  },
  {
   "cell_type": "code",
   "execution_count": null,
   "id": "09928552",
   "metadata": {
    "tags": []
   },
   "outputs": [],
   "source": [
    "# создание подключения и кред для авторизации\n",
    "\n",
    "properties = {\n",
    "            \"user\": \"*****\",\n",
    "            \"password\": \"*****\",\n",
    "            \"driver\": \"org.postgresql.Driver\"\n",
    "             }\n",
    "\n",
    "jdbc_url = \"jdbc:postgresql://<host_name>:5432/database\""
   ]
  },
  {
   "cell_type": "code",
   "execution_count": null,
   "id": "39460a0f",
   "metadata": {
    "tags": []
   },
   "outputs": [],
   "source": [
    "# подключение таким способом и чтение фрейма\n",
    "# также, есть параметр query\n",
    "\n",
    "df = spark.read.jdbc(url=jdbc_url, table=\"table_name\", properties=properties)"
   ]
  },
  {
   "cell_type": "code",
   "execution_count": null,
   "id": "02c3e3e6",
   "metadata": {
    "tags": []
   },
   "outputs": [],
   "source": [
    "# другой способ чтения фрейма\n",
    "\n",
    "df = spark.read \\\n",
    "    .format(\"jdbc\") \\\n",
    "    .option(\"url\", \"jdbc:postgresql://<host_name>:5432/database\") \\\n",
    "    .option(\"dbtable\", \"table_name\") \\\n",
    "    .option(\"user\", \"*****\") \\\n",
    "    .option(\"password\", \"*****\") \\\n",
    "    .option(\"driver\", \"org.postgresql.Driver\") \\\n",
    "    .load()\n"
   ]
  },
  {
   "cell_type": "code",
   "execution_count": null,
   "id": "cafeced2",
   "metadata": {
    "tags": []
   },
   "outputs": [],
   "source": [
    "# загрузка df в базу данных PostgreSQL\n",
    "\n",
    "df_to_csv.write \\\n",
    "    .format(\"jdbc\") \\\n",
    "    .option(\"url\", \"jdbc:postgresql://<host_name>:5432/database\") \\\n",
    "    .option(\"dbtable\", \"table_name\") \\\n",
    "    .option(\"user\", \"******\") \\\n",
    "    .option(\"password\", \"******\") \\\n",
    "    .option(\"driver\", \"org.postgresql.Driver\") \\\n",
    "    .mode('overwrite')\n"
   ]
  }
 ],
 "metadata": {
  "kernelspec": {
   "display_name": "python3.8-default",
   "language": "python",
   "name": "py38-default"
  },
  "language_info": {
   "codemirror_mode": {
    "name": "ipython",
    "version": 3
   },
   "file_extension": ".py",
   "mimetype": "text/x-python",
   "name": "python",
   "nbconvert_exporter": "python",
   "pygments_lexer": "ipython3",
   "version": "3.8.19"
  }
 },
 "nbformat": 4,
 "nbformat_minor": 5
}
